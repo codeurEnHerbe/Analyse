{
 "cells": [
  {
   "cell_type": "code",
   "execution_count": 1,
   "id": "694ba931",
   "metadata": {
    "execution": {
     "iopub.execute_input": "2025-10-17T16:53:36.984050Z",
     "iopub.status.busy": "2025-10-17T16:53:36.983747Z",
     "iopub.status.idle": "2025-10-17T16:53:40.765663Z",
     "shell.execute_reply": "2025-10-17T16:53:40.764552Z"
    },
    "papermill": {
     "duration": 3.786492,
     "end_time": "2025-10-17T16:53:40.766593",
     "exception": false,
     "start_time": "2025-10-17T16:53:36.980101",
     "status": "completed"
    },
    "tags": []
   },
   "outputs": [],
   "source": [
    "import os\n",
    "import json\n",
    "import numpy as np\n",
    "import pandas as pd\n",
    "import gspread\n",
    "from google.oauth2.service_account import Credentials\n",
    "from sklearn.preprocessing import StandardScaler\n",
    "from sklearn.ensemble import RandomForestRegressor\n",
    "import joblib\n",
    "import pandas as pd\n",
    "import seaborn as sns\n",
    "import matplotlib.pyplot as plt\n",
    "\n"
   ]
  },
  {
   "cell_type": "code",
   "execution_count": 2,
   "id": "54ed158f",
   "metadata": {
    "execution": {
     "iopub.execute_input": "2025-10-17T16:53:40.771288Z",
     "iopub.status.busy": "2025-10-17T16:53:40.770895Z",
     "iopub.status.idle": "2025-10-17T16:53:43.993053Z",
     "shell.execute_reply": "2025-10-17T16:53:43.991936Z"
    },
    "papermill": {
     "duration": 3.225503,
     "end_time": "2025-10-17T16:53:43.993840",
     "exception": false,
     "start_time": "2025-10-17T16:53:40.768337",
     "status": "completed"
    },
    "scrolled": true,
    "tags": []
   },
   "outputs": [
    {
     "name": "stdout",
     "output_type": "stream",
     "text": [
      "✅ Utilisation du fichier JSON local pour l'auth Google\n",
      "✅ Données importées depuis le Google Sheet : (65, 10)\n",
      "✅ RandomForest entraîné sur tout l'historique : 65 échantillons\n",
      "\n",
      "🎯 PRÉDICTIONS DES PROCHAINES GAMES (valeurs réelles, regression) :\n",
      "Game +1: -0.4300\n",
      "Game +2: -1.1200\n",
      "Mapped 20-80 (linear): [43.5499999941125, 33.1999999967]\n"
     ]
    },
    {
     "name": "stderr",
     "output_type": "stream",
     "text": [
      "C:\\Users\\Rafael\\anaconda3\\Lib\\site-packages\\sklearn\\base.py:439: UserWarning: X does not have valid feature names, but StandardScaler was fitted with feature names\n",
      "  warnings.warn(\n",
      "C:\\Users\\Rafael\\anaconda3\\Lib\\site-packages\\sklearn\\base.py:439: UserWarning: X does not have valid feature names, but StandardScaler was fitted with feature names\n",
      "  warnings.warn(\n"
     ]
    },
    {
     "name": "stdout",
     "output_type": "stream",
     "text": [
      "✅ Prédictions écrites dans le Google Sheet (colonne D )\n"
     ]
    }
   ],
   "source": [
    "SERVICE_ACCOUNT_FILE = \"predis-475413-8fe8b46b86fc.json\"\n",
    "\n",
    "if os.path.exists(SERVICE_ACCOUNT_FILE):\n",
    "    print(\"✅ Utilisation du fichier JSON local pour l'auth Google\")\n",
    "    creds = Credentials.from_service_account_file(\n",
    "        SERVICE_ACCOUNT_FILE,\n",
    "        scopes=[\"https://www.googleapis.com/auth/spreadsheets\",\n",
    "                \"https://www.googleapis.com/auth/drive\"]\n",
    "    )\n",
    "else:\n",
    "    print(\"⚡ Fichier JSON local non trouvé, utilisation du secret GitHub\")\n",
    "    sa_info_json = os.environ[\"GOOGLE_SERVICE_ACCOUNT_JSON\"]\n",
    "    sa_info = json.loads(sa_info_json)\n",
    "    creds = Credentials.from_service_account_info(\n",
    "        sa_info,\n",
    "        scopes=[\"https://www.googleapis.com/auth/spreadsheets\",\n",
    "                \"https://www.googleapis.com/auth/drive\"]\n",
    "    )\n",
    "\n",
    "gc = gspread.authorize(creds)\n",
    "\n",
    "# ============================================================\n",
    "# 2️⃣ OUVRIR LE GOOGLE SHEET\n",
    "# ============================================================\n",
    "sheet_url = \"https://docs.google.com/spreadsheets/d/1PdnadzZswADLqGBrI53a_8IsegivCMSz1pCZOh384-Y/edit?gid=1517184233#gid=1517184233\"\n",
    "spreadsheet = gc.open_by_url(sheet_url)\n",
    "worksheet = spreadsheet.get_worksheet(0)\n",
    "\n",
    "# ============================================================\n",
    "# 3️⃣ CHARGEMENT ET PRÉTRAITEMENT DES DONNÉES\n",
    "# ============================================================\n",
    "data = worksheet.get_all_values()\n",
    "\n",
    "header = data[0]\n",
    "for i, h in enumerate(header):\n",
    "    if h == \"\" or header.count(h) > 1:\n",
    "        header[i] = f\"col_{i+1}\"\n",
    "\n",
    "df_fe = pd.DataFrame(data[1:], columns=header)\n",
    "\n",
    "for col in df_fe.columns:\n",
    "    df_fe[col] = pd.to_numeric(df_fe[col], errors=\"ignore\")\n",
    "\n",
    "df_fe = df_fe.drop(columns=['Est. Win'], errors='ignore')\n",
    "df_fe[\"R\"] = df_fe[\"R\"].replace(0, np.nan)\n",
    "df_fe = df_fe.dropna(subset=['R'])\n",
    "\n",
    "print(\"✅ Données importées depuis le Google Sheet :\", df_fe.shape)\n",
    "\n",
    "# ============================================================\n",
    "# 4️⃣ CONSTRUCTION DES LAGS\n",
    "# ============================================================\n",
    "cols_needed = [\"Team Gap Early\", \"R\", \"Perf intrinsèque\"]\n",
    "WINDOW = 7\n",
    "\n",
    "for lag in range(1, WINDOW + 1):\n",
    "    for col in cols_needed:\n",
    "        df_fe[f\"{col}_lag{lag}\"] = df_fe[col].shift(lag)\n",
    "\n",
    "df_fe = df_fe.fillna(0)\n",
    "df_fe[\"LoseStreak\"] = (df_fe[\"Team Gap Early\"].astype(float) < 0).astype(int)\n",
    "df_fe[\"LoseStreak\"] = df_fe[\"LoseStreak\"].rolling(3, min_periods=1).sum()\n",
    "\n",
    "# ============================================================\n",
    "# 5️⃣ STANDARDISATION ET ENTRAÎNEMENT DU RANDOM FOREST\n",
    "# ============================================================\n",
    "feature_columns_final = [\n",
    "    f\"{col}_lag{lag}\" for col in cols_needed for lag in range(1, WINDOW + 1)\n",
    "] + [\"LoseStreak\"]\n",
    "\n",
    "X = df_fe[feature_columns_final].fillna(0)\n",
    "y = df_fe[\"Team Gap Early\"].astype(float)\n",
    "\n",
    "scaler_all = StandardScaler()\n",
    "X_scaled = scaler_all.fit_transform(X)\n",
    "\n",
    "rf = RandomForestRegressor(n_estimators=300, random_state=42, n_jobs=-1)\n",
    "rf.fit(X_scaled, y)\n",
    "\n",
    "y_train = y.values\n",
    "print(\"✅ RandomForest entraîné sur tout l'historique :\", len(y_train), \"échantillons\")\n",
    "\n",
    "# ============================================================\n",
    "# 6️⃣ PRÉDICTIONS DES 2 PROCHAINES GAMES\n",
    "# ============================================================\n",
    "def build_X_from_window(window_df, feature_cols, window):\n",
    "    next_row = {}\n",
    "    for col in [\"Team Gap Early\", \"R\", \"Perf intrinsèque\"]:\n",
    "        for lag in range(1, window + 1):\n",
    "            next_row[f\"{col}_lag{lag}\"] = window_df[col].iloc[-lag]\n",
    "    lose_series = (window_df[\"Team Gap Early\"].astype(float) < 0).astype(int)\n",
    "    next_row[\"LoseStreak\"] = int(lose_series.rolling(3, min_periods=1).sum().iloc[-1])\n",
    "    return pd.DataFrame([next_row])[feature_cols].fillna(0).values\n",
    "\n",
    "def map_to_20_80(pred, y_min, y_max):\n",
    "    pred_clipped = np.clip(pred, y_min, y_max)\n",
    "    return 20 + 60 * ((pred_clipped - y_min) / (y_max - y_min + 1e-9))\n",
    "\n",
    "def predict_next_n_games_rf(model, df_fe, n_future=2):\n",
    "    df_extended = df_fe.copy()\n",
    "    preds = []\n",
    "    for i in range(n_future):\n",
    "        window_df = df_extended.iloc[-WINDOW:]\n",
    "        X_plate = build_X_from_window(window_df, feature_columns_final, WINDOW)\n",
    "        X_scaled = scaler_all.transform(X_plate)\n",
    "        pred = float(model.predict(X_scaled)[0])\n",
    "        preds.append(pred)\n",
    "        new_row = {col: np.nan for col in df_fe.columns}\n",
    "        new_row[\"Team Gap Early\"] = pred\n",
    "        new_row[\"R\"] = 0.0\n",
    "        new_row[\"Perf intrinsèque\"] = 0.0\n",
    "        df_extended = pd.concat([df_extended, pd.DataFrame([new_row])], ignore_index=True)\n",
    "    return preds, df_extended\n",
    "\n",
    "preds_future, df_fe_extended = predict_next_n_games_rf(rf, df_fe, n_future=2)\n",
    "\n",
    "print(\"\\n🎯 PRÉDICTIONS DES PROCHAINES GAMES (valeurs réelles, regression) :\")\n",
    "for i, p in enumerate(preds_future, 1):\n",
    "    print(f\"Game +{i}: {p:.4f}\")\n",
    "\n",
    "# Mapper en 20-80\n",
    "y_min, y_max = y_train.min(), y_train.max()\n",
    "preds_future_mapped = [map_to_20_80(p, y_min, y_max) for p in preds_future]\n",
    "print(\"Mapped 20-80 (linear):\", preds_future_mapped)\n",
    "\n",
    "# ============================================================\n",
    "# 7️⃣ ÉCRITURE DANS LE GOOGLE SHEET\n",
    "# ============================================================\n",
    "values = [[float(v)] for v in preds_future_mapped]\n",
    "start_row = len(df_fe) + 2\n",
    "col_letter = \"D\"\n",
    "col_name = \"Pred_TeamGapEarly_Next\"\n",
    "\n",
    "worksheet.update(values=[[col_name]], range_name=f\"{col_letter}1\")\n",
    "worksheet.update(\n",
    "    values=values,\n",
    "    range_name=f\"{col_letter}{start_row}:{col_letter}{start_row + len(values) - 1}\"\n",
    ")\n",
    "\n",
    "print(\"✅ Prédictions écrites dans le Google Sheet (colonne\", col_letter, \")\")\n"
   ]
  },
  {
   "cell_type": "markdown",
   "id": "fedb7118",
   "metadata": {
    "papermill": {
     "duration": 0.001488,
     "end_time": "2025-10-17T16:53:43.997229",
     "exception": false,
     "start_time": "2025-10-17T16:53:43.995741",
     "status": "completed"
    },
    "tags": []
   },
   "source": [
    "### Bonus matrice de corrélation"
   ]
  },
  {
   "cell_type": "code",
   "execution_count": 3,
   "id": "29330dbd",
   "metadata": {
    "execution": {
     "iopub.execute_input": "2025-10-17T16:53:44.001462Z",
     "iopub.status.busy": "2025-10-17T16:53:44.001081Z",
     "iopub.status.idle": "2025-10-17T16:53:44.249394Z",
     "shell.execute_reply": "2025-10-17T16:53:44.248330Z"
    },
    "papermill": {
     "duration": 0.251511,
     "end_time": "2025-10-17T16:53:44.250199",
     "exception": false,
     "start_time": "2025-10-17T16:53:43.998688",
     "status": "completed"
    },
    "tags": []
   },
   "outputs": [
    {
     "data": {
      "image/png": "[encoded data removed]",
      "text/plain": [
       "<Figure size 1200x600 with 2 Axes>"
      ]
     },
     "metadata": {},
     "output_type": "display_data"
    }
   ],
   "source": [
    "\n",
    "features = ['R', 'Perf relative', 'Perf intrinsèque', 'Team Gap Early']\n",
    "target = 'Team Gap Early'\n",
    "max_lag = 7\n",
    "\n",
    "df_lagged = df_fe.copy()\n",
    "\n",
    "# Créer les colonnes lag\n",
    "for feat in features:\n",
    "    for lag in range(1, max_lag + 1):\n",
    "        df_lagged[f'{feat}_lag{lag}'] = df_lagged[feat].shift(lag)\n",
    "\n",
    "# Supprimer les lignes avec target NaN\n",
    "df_corr = df_lagged.dropna(subset=[target])\n",
    "\n",
    "# Calcul des corrélations\n",
    "corr_dict = {}\n",
    "for feat in features:\n",
    "    for lag in range(1, max_lag + 1):\n",
    "        corr_dict[f'{feat}_lag{lag}'] = df_corr[target].corr(df_corr[f'{feat}_lag{lag}'])\n",
    "\n",
    "corr_df = pd.DataFrame.from_dict(corr_dict, orient='index', columns=['Correlation'])\n",
    "corr_df['Feature'] = [name.split('_lag')[0] for name in corr_df.index]\n",
    "corr_df['Lag'] = [int(name.split('_lag')[1]) for name in corr_df.index]\n",
    "\n",
    "# Pivot pour heatmap\n",
    "heatmap_data = corr_df.pivot(index='Feature', columns='Lag', values='Correlation')\n",
    "\n",
    "# Heatmap avec labels\n",
    "plt.figure(figsize=(12, 6))\n",
    "ax = sns.heatmap(\n",
    "    heatmap_data,\n",
    "    annot=True,\n",
    "    fmt=\".2f\",\n",
    "    cmap=\"coolwarm\",\n",
    "    cbar_kws={'label': 'Corrélation'},\n",
    "    linewidths=0.5,\n",
    "    square=True\n",
    ")\n",
    "\n",
    "# Forcer les labels pour toutes les cases\n",
    "ax.set_xticklabels([f\"game n-{i}\" for i in heatmap_data.columns], rotation=45, ha='right', fontsize=10)\n",
    "ax.set_yticklabels(heatmap_data.index, rotation=0, fontsize=10)\n",
    "\n",
    "plt.title('Corrélation des features sur les 7 dernières games avec Team Gap Early', fontsize=16)\n",
    "plt.xlabel('Ancienneté')\n",
    "plt.ylabel('Features')\n",
    "plt.tight_layout()\n",
    "plt.show()\n"
   ]
  }
 ],
 "metadata": {
  "kernelspec": {
   "display_name": "Python 3 (ipykernel)",
   "language": "python",
   "name": "python3"
  },
  "language_info": {
   "codemirror_mode": {
    "name": "ipython",
    "version": 3
   },
   "file_extension": ".py",
   "mimetype": "text/x-python",
   "name": "python",
   "nbconvert_exporter": "python",
   "pygments_lexer": "ipython3",
   "version": "3.11.7"
  },
  "papermill": {
   "default_parameters": {},
   "duration": 9.622811,
   "end_time": "2025-10-17T16:53:45.371398",
   "environment_variables": {},
   "exception": null,
   "input_path": "Poids.ipynb",
   "output_path": "Poids.ipynb",
   "parameters": {},
   "start_time": "2025-10-17T16:53:35.748587",
   "version": "2.6.0"
  }
 },
 "nbformat": 4,
 "nbformat_minor": 5
}
