{
 "cells": [
  {
   "cell_type": "code",
   "execution_count": 2,
   "id": "694ba931",
   "metadata": {
    "execution": {
     "iopub.execute_input": "2025-10-16T14:02:09.220394Z",
     "iopub.status.busy": "2025-10-16T14:02:09.220107Z",
     "iopub.status.idle": "2025-10-16T14:02:12.115008Z",
     "shell.execute_reply": "2025-10-16T14:02:12.113819Z"
    },
    "papermill": {
     "duration": 2.899061,
     "end_time": "2025-10-16T14:02:12.115867",
     "exception": false,
     "start_time": "2025-10-16T14:02:09.216806",
     "status": "completed"
    },
    "tags": []
   },
   "outputs": [],
   "source": [
    "import pandas as pd\n",
    "import numpy as np\n",
    "from sklearn.linear_model import Ridge\n",
    "from sklearn.preprocessing import StandardScaler\n",
    "from sklearn.pipeline import make_pipeline\n",
    "from sklearn.metrics import r2_score, mean_absolute_error\n",
    "from scipy.optimize import minimize\n",
    "import seaborn as sns\n",
    "import matplotlib.pyplot as plt\n"
   ]
  },
  {
   "cell_type": "code",
   "execution_count": 3,
   "id": "80736490",
   "metadata": {
    "execution": {
     "iopub.execute_input": "2025-10-16T14:02:12.120689Z",
     "iopub.status.busy": "2025-10-16T14:02:12.120382Z",
     "iopub.status.idle": "2025-10-16T14:02:12.705870Z",
     "shell.execute_reply": "2025-10-16T14:02:12.704906Z"
    },
    "papermill": {
     "duration": 0.589318,
     "end_time": "2025-10-16T14:02:12.707147",
     "exception": false,
     "start_time": "2025-10-16T14:02:12.117829",
     "status": "completed"
    },
    "tags": []
   },
   "outputs": [],
   "source": [
    "\n",
    "# ID du Google Sheet et GID de l'onglet\n",
    "sheet_id = \"1PdnadzZswADLqGBrI53a_8IsegivCMSz1pCZOh384-Y\"\n",
    "gid = \"1517184233\"\n",
    "\n",
    "# Construction du lien CSV public de Google Sheets\n",
    "url = f\"https://docs.google.com/spreadsheets/d/{sheet_id}/export?format=csv&gid={gid}\"\n",
    "\n",
    "# Lecture du CSV directement dans un DataFrame\n",
    "df = pd.read_csv(url)\n",
    "\n",
    "# Si ton tableau commence à la colonne D (donc avec des colonnes vides avant),\n",
    "# on peut supprimer les colonnes vides automatiquement :\n",
    "df = df.dropna(axis=1, how=\"all\")\n",
    "df = df.replace(\"-\", np.nan)\n",
    "df = df.dropna(subset=['Team Gap Early', 'Est. Win'])"
   ]
  },
  {
   "cell_type": "code",
   "execution_count": 4,
   "id": "945dd1a5",
   "metadata": {
    "execution": {
     "iopub.execute_input": "2025-10-16T14:02:12.711682Z",
     "iopub.status.busy": "2025-10-16T14:02:12.711469Z",
     "iopub.status.idle": "2025-10-16T14:02:12.783089Z",
     "shell.execute_reply": "2025-10-16T14:02:12.781862Z"
    },
    "papermill": {
     "duration": 0.074793,
     "end_time": "2025-10-16T14:02:12.783814",
     "exception": false,
     "start_time": "2025-10-16T14:02:12.709021",
     "status": "completed"
    },
    "tags": []
   },
   "outputs": [
    {
     "name": "stdout",
     "output_type": "stream",
     "text": [
      " Lambda optimal trouvé : 1.0000\n",
      "\n",
      " Poids globaux par feature :\n",
      "            Feature   Poids\n",
      "0    Team Gap Early -1.2733\n",
      "1                 R  1.0764\n",
      "2     Perf relative -0.2434\n",
      "3  Perf intrinsèque  0.6596\n",
      "\n",
      "Intercept : 0.2632\n",
      "\n",
      "R² (train) : 0.425\n",
      "MAE (train) : 0.954\n",
      "\n",
      "Décroissance exponentielle utilisée (λ = 1.000) :\n",
      "[0.6327 0.2328 0.0856 0.0315 0.0116 0.0043 0.0016]\n",
      "\n",
      "------------ Poids effectifs (w_feature × λ_lag) :\n",
      "                     lag1     lag2     lag3     lag4     lag5     lag6  \\\n",
      "Team Gap Early   -0.80558 -0.29636 -0.10902 -0.04011 -0.01475 -0.00543   \n",
      "R                 0.68106  0.25055  0.09217  0.03391  0.01247  0.00459   \n",
      "Perf relative    -0.15400 -0.05665 -0.02084 -0.00767 -0.00282 -0.00104   \n",
      "Perf intrinsèque  0.41731  0.15352  0.05648  0.02078  0.00764  0.00281   \n",
      "\n",
      "                     lag7  \n",
      "Team Gap Early   -0.00200  \n",
      "R                 0.00169  \n",
      "Perf relative    -0.00038  \n",
      "Perf intrinsèque  0.00103  \n"
     ]
    }
   ],
   "source": [
    "# ==========================\n",
    "# PARAMÈTRES GÉNÉRAUX\n",
    "# ==========================\n",
    "features = [\"Team Gap Early\", \"R\", \"Perf relative\", \"Perf intrinsèque\"]\n",
    "target_col = \"Team Gap Early\"\n",
    "max_lag = 7\n",
    "\n",
    "# ==========================\n",
    "#  MISE EN FORME DU DATASET\n",
    "# ==========================\n",
    "for c in df.columns:\n",
    "    df[c] = df[c].astype(str).str.replace(\",\", \".\")\n",
    "    df[c] = pd.to_numeric(df[c], errors=\"coerce\")\n",
    "\n",
    "# ---- Création des colonnes de lag ----\n",
    "for feat in features:\n",
    "    for lag in range(1, max_lag + 1):\n",
    "        df[f\"{feat}_lag{lag}\"] = df[feat].shift(lag)\n",
    "\n",
    "df = df.dropna(subset=[target_col])\n",
    "\n",
    "# ==========================\n",
    "# OPTIMISATION DU TAUX DE DÉCROISSANCE\n",
    "# En temps noomal, on souhaiterai que notre modele apprene le taux de decroissance de lui meme mais on a pas assez de donnee\n",
    "# On va donc forcer des poids decroissant pour coller a notre intuition du score\n",
    "# ==========================\n",
    "def objective(lmbda):\n",
    "    decay = np.exp(-lmbda * np.arange(1, max_lag + 1))\n",
    "    decay /= decay.sum()\n",
    "    \n",
    "    df_temp = df.copy()\n",
    "    for feat in features:\n",
    "        lag_cols = [f\"{feat}_lag{i}\" for i in range(1, max_lag + 1)]\n",
    "        df_temp[f\"{feat}_weighted\"] = df_temp[lag_cols].fillna(0).dot(decay)\n",
    "    \n",
    "    X = df_temp[[f\"{feat}_weighted\" for feat in features]].values\n",
    "    y = df_temp[target_col].values\n",
    "    \n",
    "    scaler = StandardScaler()\n",
    "    X_scaled = scaler.fit_transform(X)\n",
    "    \n",
    "    model = Ridge(alpha=1.0)\n",
    "    model.fit(X_scaled, y)\n",
    "    \n",
    "    return -r2_score(y, model.predict(X))\n",
    "\n",
    "res = minimize(objective, x0=[0.3], bounds=[(0.05, 1.0)])\n",
    "best_lambda = res.x[0]\n",
    "print(f\" Lambda optimal trouvé : {best_lambda:.4f}\")\n",
    "\n",
    "# ==========================\n",
    "# RE-ENTRAÎNEMENT FINAL\n",
    "# On entraine le modele avec le taux de decroissance des poids pour la lag qui augment\n",
    "# ==========================\n",
    "decay = np.exp(-best_lambda * np.arange(1, max_lag + 1))\n",
    "decay /= decay.sum()\n",
    "\n",
    "for feat in features:\n",
    "    lag_cols = [f\"{feat}_lag{i}\" for i in range(1, max_lag + 1)]\n",
    "    df[f\"{feat}_weighted\"] = df[lag_cols].fillna(0).dot(decay)\n",
    "\n",
    "X = df[[f\"{feat}_weighted\" for feat in features]].values\n",
    "y = df[target_col].values\n",
    "\n",
    "scaler = StandardScaler()\n",
    "X_scaled = scaler.fit_transform(X)\n",
    "\n",
    "model = Ridge(alpha=0.7)\n",
    "model.fit(X_scaled, y)\n",
    "\n",
    "coefs = model.coef_\n",
    "intercept = model.intercept_\n",
    "\n",
    "coef_df = pd.DataFrame({\n",
    "    \"Feature\": features,\n",
    "    \"Poids\": coefs\n",
    "}).round(4)\n",
    "\n",
    "print(\"\\n Poids globaux par feature :\")\n",
    "print(coef_df)\n",
    "print(f\"\\nIntercept : {intercept:.4f}\")\n",
    "\n",
    "y_pred = model.predict(X_scaled)\n",
    "print(f\"\\nR² (train) : {r2_score(y, y_pred):.3f}\")\n",
    "print(f\"MAE (train) : {mean_absolute_error(y, y_pred):.3f}\")\n",
    "\n",
    "print(f\"\\nDécroissance exponentielle utilisée (λ = {best_lambda:.3f}) :\")\n",
    "print(np.round(decay, 4))\n",
    "\n",
    "# ==========================\n",
    "# CALCUL DES POIDS EFFECTIFS PAR LAG\n",
    "# ==========================\n",
    "# produit w_feature × decay_lag pour chaque feature et lag\n",
    "weights_matrix = np.outer(coefs, decay)\n",
    "weights_df = pd.DataFrame(\n",
    "    weights_matrix,\n",
    "    index=features,\n",
    "    columns=[f\"lag{i}\" for i in range(1, max_lag + 1)]\n",
    ").round(5)\n",
    "\n",
    "print(\"\\n------------ Poids effectifs (w_feature × λ_lag) :\")\n",
    "print(weights_df)\n",
    "\n"
   ]
  },
  {
   "cell_type": "code",
   "execution_count": 5,
   "id": "1309fdf1",
   "metadata": {
    "execution": {
     "iopub.execute_input": "2025-10-16T14:02:12.788255Z",
     "iopub.status.busy": "2025-10-16T14:02:12.788052Z",
     "iopub.status.idle": "2025-10-16T14:02:12.793614Z",
     "shell.execute_reply": "2025-10-16T14:02:12.792614Z"
    },
    "papermill": {
     "duration": 0.008703,
     "end_time": "2025-10-16T14:02:12.794327",
     "exception": false,
     "start_time": "2025-10-16T14:02:12.785624",
     "status": "completed"
    },
    "tags": []
   },
   "outputs": [
    {
     "name": "stdout",
     "output_type": "stream",
     "text": [
      "=20+((0,2632+(-1,2733)*SOMMEPROD((0,6327*F8+0,2328*F7+0,0856*F6+0,0315*F5+0,0116*F4+0,0043*F3+0,0016*F2))+(1,0764)*SOMMEPROD((0,6327*G8+0,2328*G7+0,0856*G6+0,0315*G5+0,0116*G4+0,0043*G3+0,0016*G2))+(-0,2434)*SOMMEPROD((0,6327*H8+0,2328*H7+0,0856*H6+0,0315*H5+0,0116*H4+0,0043*H3+0,0016*H2))+(0,6596)*SOMMEPROD((0,6327*I8+0,2328*I7+0,0856*I6+0,0315*I5+0,0116*I4+0,0043*I3+0,0016*I2)))+2)*15\n"
     ]
    }
   ],
   "source": [
    "def generate_excel_formula(row, decay, coefs, intercept, start_row=2):\n",
    "\n",
    "    features_letters = [\"F\", \"G\", \"H\", \"I\"]  # ordre : Team Gap Early, R, Perf relative, Perf intrinsèque\n",
    "    \n",
    "    inner = f\"({intercept:.4f}\".replace(\".\", \",\")\n",
    "\n",
    "    for feat_idx, col_letter in enumerate(features_letters):\n",
    "        coef = coefs[feat_idx]\n",
    "        inner += f\"+({coef:.4f})*SOMMEPROD((\"\n",
    "        \n",
    "        for lag_idx, d in enumerate(decay):\n",
    "            lag_row = row - (lag_idx + 1)\n",
    "            inner += f\"{d:.4f}*{col_letter}{lag_row}+\"\n",
    "        \n",
    "        inner = inner.rstrip(\"+\") + \"))\"\n",
    "    \n",
    "    inner += \")\"  # fermeture de la formule interne\n",
    "    \n",
    "    # Application du mapping linéaire : 20 + (score + 2) * 15\n",
    "    formula = f\"=20+({inner}+2)*15\"\n",
    "    \n",
    "    formula = formula.replace(\".\", \",\")\n",
    "    return formula\n",
    "\n",
    "row_number = 9\n",
    "excel_formula_row9 = generate_excel_formula(row_number, decay, coefs, intercept)\n",
    "print(excel_formula_row9)"
   ]
  },
  {
   "cell_type": "markdown",
   "id": "df93a0c4",
   "metadata": {
    "papermill": {
     "duration": 0.001613,
     "end_time": "2025-10-16T14:02:12.797666",
     "exception": false,
     "start_time": "2025-10-16T14:02:12.796053",
     "status": "completed"
    },
    "tags": []
   },
   "source": [
    "**ATTENTION** : cette formule fait une prédiction entre 20 ET 80 pour le **TEAM GAP EARLY**, pas une prédiction sur la WIN. (on peut le changer)\n",
    "- Actuellement cette formule est pour la ligne 9 puis il faut la faire glisser sur les autres cases après\n"
   ]
  },
  {
   "cell_type": "markdown",
   "id": "fedb7118",
   "metadata": {
    "papermill": {
     "duration": 0.001575,
     "end_time": "2025-10-16T14:02:12.800982",
     "exception": false,
     "start_time": "2025-10-16T14:02:12.799407",
     "status": "completed"
    },
    "tags": []
   },
   "source": [
    "Bonus matrice de corrélation"
   ]
  },
  {
   "cell_type": "code",
   "execution_count": 6,
   "id": "29330dbd",
   "metadata": {
    "execution": {
     "iopub.execute_input": "2025-10-16T14:02:12.805410Z",
     "iopub.status.busy": "2025-10-16T14:02:12.805172Z",
     "iopub.status.idle": "2025-10-16T14:02:13.097311Z",
     "shell.execute_reply": "2025-10-16T14:02:13.096288Z"
    },
    "papermill": {
     "duration": 0.295464,
     "end_time": "2025-10-16T14:02:13.098022",
     "exception": false,
     "start_time": "2025-10-16T14:02:12.802558",
     "status": "completed"
    },
    "tags": []
   },
   "outputs": [
    {
     "data": {
      "image/png": "[encoded data removed]",
      "text/plain": [
       "<Figure size 1200x600 with 2 Axes>"
      ]
     },
     "metadata": {},
     "output_type": "display_data"
    }
   ],
   "source": [
    "import pandas as pd\n",
    "import seaborn as sns\n",
    "import matplotlib.pyplot as plt\n",
    "\n",
    "features = ['R', 'Perf relative', 'Perf intrinsèque', 'Team Gap Early']\n",
    "target = 'Team Gap Early'\n",
    "max_lag = 7\n",
    "\n",
    "df_lagged = df.copy()\n",
    "\n",
    "# Créer les colonnes lag\n",
    "for feat in features:\n",
    "    for lag in range(1, max_lag + 1):\n",
    "        df_lagged[f'{feat}_lag{lag}'] = df_lagged[feat].shift(lag)\n",
    "\n",
    "# Supprimer les lignes avec target NaN\n",
    "df_corr = df_lagged.dropna(subset=[target])\n",
    "\n",
    "# Calcul des corrélations\n",
    "corr_dict = {}\n",
    "for feat in features:\n",
    "    for lag in range(1, max_lag + 1):\n",
    "        corr_dict[f'{feat}_lag{lag}'] = df_corr[target].corr(df_corr[f'{feat}_lag{lag}'])\n",
    "\n",
    "corr_df = pd.DataFrame.from_dict(corr_dict, orient='index', columns=['Correlation'])\n",
    "corr_df['Feature'] = [name.split('_lag')[0] for name in corr_df.index]\n",
    "corr_df['Lag'] = [int(name.split('_lag')[1]) for name in corr_df.index]\n",
    "\n",
    "# Pivot pour heatmap\n",
    "heatmap_data = corr_df.pivot(index='Feature', columns='Lag', values='Correlation')\n",
    "\n",
    "# Heatmap avec labels\n",
    "plt.figure(figsize=(12, 6))\n",
    "ax = sns.heatmap(\n",
    "    heatmap_data,\n",
    "    annot=True,\n",
    "    fmt=\".2f\",\n",
    "    cmap=\"coolwarm\",\n",
    "    cbar_kws={'label': 'Corrélation'},\n",
    "    linewidths=0.5,\n",
    "    square=True\n",
    ")\n",
    "\n",
    "# Forcer les labels pour toutes les cases\n",
    "ax.set_xticklabels([f\"game n-{i}\" for i in heatmap_data.columns], rotation=45, ha='right', fontsize=10)\n",
    "ax.set_yticklabels(heatmap_data.index, rotation=0, fontsize=10)\n",
    "\n",
    "plt.title('Corrélation des features sur les 7 dernières games avec Team Gap Early', fontsize=16)\n",
    "plt.xlabel('Ancienneté')\n",
    "plt.ylabel('Features')\n",
    "plt.tight_layout()\n",
    "plt.show()\n"
   ]
  }
 ],
 "metadata": {
  "kernelspec": {
   "display_name": "Python 3 (ipykernel)",
   "language": "python",
   "name": "python3"
  },
  "language_info": {
   "codemirror_mode": {
    "name": "ipython",
    "version": 3
   },
   "file_extension": ".py",
   "mimetype": "text/x-python",
   "name": "python",
   "nbconvert_exporter": "python",
   "pygments_lexer": "ipython3",
   "version": "3.11.7"
  },
  "papermill": {
   "default_parameters": {},
   "duration": 5.924636,
   "end_time": "2025-10-16T14:02:13.516695",
   "environment_variables": {},
   "exception": null,
   "input_path": "Poids.ipynb",
   "output_path": "Poids.ipynb",
   "parameters": {},
   "start_time": "2025-10-16T14:02:07.592059",
   "version": "2.6.0"
  }
 },
 "nbformat": 4,
 "nbformat_minor": 5
}
