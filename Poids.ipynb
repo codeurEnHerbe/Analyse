{
 "cells": [
  {
   "cell_type": "code",
   "execution_count": 28,
   "id": "694ba931",
   "metadata": {
    "execution": {
     "iopub.execute_input": "2025-10-16T18:14:39.714554Z",
     "iopub.status.busy": "2025-10-16T18:14:39.714307Z",
     "iopub.status.idle": "2025-10-16T18:14:44.522936Z",
     "shell.execute_reply": "2025-10-16T18:14:44.521975Z"
    },
    "papermill": {
     "duration": 4.812917,
     "end_time": "2025-10-16T18:14:44.523866",
     "exception": false,
     "start_time": "2025-10-16T18:14:39.710949",
     "status": "completed"
    },
    "tags": []
   },
   "outputs": [],
   "source": [
    "import pandas as pd\n",
    "import numpy as np\n",
    "from sklearn.linear_model import Ridge\n",
    "from sklearn.preprocessing import StandardScaler\n",
    "from sklearn.pipeline import make_pipeline\n",
    "from sklearn.metrics import r2_score, mean_absolute_error\n",
    "from scipy.optimize import minimize\n",
    "import seaborn as sns\n",
    "import matplotlib.pyplot as plt\n",
    "import torch\n",
    "import torch.nn as nn\n",
    "from torch.utils.data import Dataset, DataLoader\n",
    "from sklearn.linear_model import LinearRegression\n"
   ]
  },
  {
   "cell_type": "code",
   "execution_count": 40,
   "id": "80736490",
   "metadata": {
    "execution": {
     "iopub.execute_input": "2025-10-16T18:14:44.528663Z",
     "iopub.status.busy": "2025-10-16T18:14:44.528334Z",
     "iopub.status.idle": "2025-10-16T18:14:45.062045Z",
     "shell.execute_reply": "2025-10-16T18:14:45.060984Z"
    },
    "papermill": {
     "duration": 0.537054,
     "end_time": "2025-10-16T18:14:45.062844",
     "exception": false,
     "start_time": "2025-10-16T18:14:44.525790",
     "status": "completed"
    },
    "tags": []
   },
   "outputs": [],
   "source": [
    "\n",
    "# ID du Google Sheet et GID de l'onglet\n",
    "sheet_id = \"1PdnadzZswADLqGBrI53a_8IsegivCMSz1pCZOh384-Y\"\n",
    "gid = \"1517184233\"\n",
    "\n",
    "# Construction du lien CSV public de Google Sheets\n",
    "url = f\"https://docs.google.com/spreadsheets/d/{sheet_id}/export?format=csv&gid={gid}\"\n",
    "\n",
    "# Lecture du CSV directement dans un DataFrame\n",
    "df = pd.read_csv(url)\n",
    "\n",
    "# Si ton tableau commence à la colonne D (donc avec des colonnes vides avant),\n",
    "# on peut supprimer les colonnes vides automatiquement :\n",
    "df = df.dropna(axis=1, how=\"all\")\n",
    "df = df.replace(\"-\", np.nan)\n",
    "df = df.dropna(subset=[\"Team Gap Early\", \"R\", \"Perf relative\", \"Perf intrinsèque\"])\n",
    "df['LoseStreak'] = 0\n",
    "streak = 0\n",
    "for i, gap in enumerate(df['Team Gap Early']):\n",
    "    if gap < 0:\n",
    "        streak += 1\n",
    "    else:\n",
    "        streak = 0\n",
    "    df.at[i, 'LoseStreak'] = streak"
   ]
  },
  {
   "cell_type": "markdown",
   "id": "df93a0c4",
   "metadata": {
    "papermill": {
     "duration": 0.001578,
     "end_time": "2025-10-16T18:14:45.066331",
     "exception": false,
     "start_time": "2025-10-16T18:14:45.064753",
     "status": "completed"
    },
    "tags": []
   },
   "source": [
    "**ATTENTION** : cette formule fait une prédiction entre 20 ET 80 pour le **TEAM GAP EARLY**, pas une prédiction sur la WIN. (on peut le changer)\n",
    "- Actuellement cette formule est pour la ligne 9 puis il faut la faire glisser sur les autres cases après\n"
   ]
  },
  {
   "cell_type": "code",
   "execution_count": 41,
   "id": "2b4f2a72",
   "metadata": {
    "execution": {
     "iopub.execute_input": "2025-10-16T18:14:45.070449Z",
     "iopub.status.busy": "2025-10-16T18:14:45.070065Z",
     "iopub.status.idle": "2025-10-16T18:14:47.093501Z",
     "shell.execute_reply": "2025-10-16T18:14:47.092541Z"
    },
    "papermill": {
     "duration": 2.026438,
     "end_time": "2025-10-16T18:14:47.094212",
     "exception": false,
     "start_time": "2025-10-16T18:14:45.067774",
     "status": "completed"
    },
    "tags": []
   },
   "outputs": [
    {
     "name": "stdout",
     "output_type": "stream",
     "text": [
      "Epoch 0, Loss: 0.9974\n",
      "Epoch 50, Loss: 0.3007\n",
      "Epoch 100, Loss: 0.0326\n",
      "Epoch 150, Loss: 0.0015\n"
     ]
    },
    {
     "data": {
      "text/html": [
       "<style>#sk-container-id-7 {color: black;background-color: white;}#sk-container-id-7 pre{padding: 0;}#sk-container-id-7 div.sk-toggleable {background-color: white;}#sk-container-id-7 label.sk-toggleable__label {cursor: pointer;display: block;width: 100%;margin-bottom: 0;padding: 0.3em;box-sizing: border-box;text-align: center;}#sk-container-id-7 label.sk-toggleable__label-arrow:before {content: \"▸\";float: left;margin-right: 0.25em;color: #696969;}#sk-container-id-7 label.sk-toggleable__label-arrow:hover:before {color: black;}#sk-container-id-7 div.sk-estimator:hover label.sk-toggleable__label-arrow:before {color: black;}#sk-container-id-7 div.sk-toggleable__content {max-height: 0;max-width: 0;overflow: hidden;text-align: left;background-color: #f0f8ff;}#sk-container-id-7 div.sk-toggleable__content pre {margin: 0.2em;color: black;border-radius: 0.25em;background-color: #f0f8ff;}#sk-container-id-7 input.sk-toggleable__control:checked~div.sk-toggleable__content {max-height: 200px;max-width: 100%;overflow: auto;}#sk-container-id-7 input.sk-toggleable__control:checked~label.sk-toggleable__label-arrow:before {content: \"▾\";}#sk-container-id-7 div.sk-estimator input.sk-toggleable__control:checked~label.sk-toggleable__label {background-color: #d4ebff;}#sk-container-id-7 div.sk-label input.sk-toggleable__control:checked~label.sk-toggleable__label {background-color: #d4ebff;}#sk-container-id-7 input.sk-hidden--visually {border: 0;clip: rect(1px 1px 1px 1px);clip: rect(1px, 1px, 1px, 1px);height: 1px;margin: -1px;overflow: hidden;padding: 0;position: absolute;width: 1px;}#sk-container-id-7 div.sk-estimator {font-family: monospace;background-color: #f0f8ff;border: 1px dotted black;border-radius: 0.25em;box-sizing: border-box;margin-bottom: 0.5em;}#sk-container-id-7 div.sk-estimator:hover {background-color: #d4ebff;}#sk-container-id-7 div.sk-parallel-item::after {content: \"\";width: 100%;border-bottom: 1px solid gray;flex-grow: 1;}#sk-container-id-7 div.sk-label:hover label.sk-toggleable__label {background-color: #d4ebff;}#sk-container-id-7 div.sk-serial::before {content: \"\";position: absolute;border-left: 1px solid gray;box-sizing: border-box;top: 0;bottom: 0;left: 50%;z-index: 0;}#sk-container-id-7 div.sk-serial {display: flex;flex-direction: column;align-items: center;background-color: white;padding-right: 0.2em;padding-left: 0.2em;position: relative;}#sk-container-id-7 div.sk-item {position: relative;z-index: 1;}#sk-container-id-7 div.sk-parallel {display: flex;align-items: stretch;justify-content: center;background-color: white;position: relative;}#sk-container-id-7 div.sk-item::before, #sk-container-id-7 div.sk-parallel-item::before {content: \"\";position: absolute;border-left: 1px solid gray;box-sizing: border-box;top: 0;bottom: 0;left: 50%;z-index: -1;}#sk-container-id-7 div.sk-parallel-item {display: flex;flex-direction: column;z-index: 1;position: relative;background-color: white;}#sk-container-id-7 div.sk-parallel-item:first-child::after {align-self: flex-end;width: 50%;}#sk-container-id-7 div.sk-parallel-item:last-child::after {align-self: flex-start;width: 50%;}#sk-container-id-7 div.sk-parallel-item:only-child::after {width: 0;}#sk-container-id-7 div.sk-dashed-wrapped {border: 1px dashed gray;margin: 0 0.4em 0.5em 0.4em;box-sizing: border-box;padding-bottom: 0.4em;background-color: white;}#sk-container-id-7 div.sk-label label {font-family: monospace;font-weight: bold;display: inline-block;line-height: 1.2em;}#sk-container-id-7 div.sk-label-container {text-align: center;}#sk-container-id-7 div.sk-container {/* jupyter's `normalize.less` sets `[hidden] { display: none; }` but bootstrap.min.css set `[hidden] { display: none !important; }` so we also need the `!important` here to be able to override the default hidden behavior on the sphinx rendered scikit-learn.org. See: https://github.com/scikit-learn/scikit-learn/issues/21755 */display: inline-block !important;position: relative;}#sk-container-id-7 div.sk-text-repr-fallback {display: none;}</style><div id=\"sk-container-id-7\" class=\"sk-top-container\"><div class=\"sk-text-repr-fallback\"><pre>LinearRegression()</pre><b>In a Jupyter environment, please rerun this cell to show the HTML representation or trust the notebook. <br />On GitHub, the HTML representation is unable to render, please try loading this page with nbviewer.org.</b></div><div class=\"sk-container\" hidden><div class=\"sk-item\"><div class=\"sk-estimator sk-toggleable\"><input class=\"sk-toggleable__control sk-hidden--visually\" id=\"sk-estimator-id-7\" type=\"checkbox\" checked><label for=\"sk-estimator-id-7\" class=\"sk-toggleable__label sk-toggleable__label-arrow\">LinearRegression</label><div class=\"sk-toggleable__content\"><pre>LinearRegression()</pre></div></div></div></div></div>"
      ],
      "text/plain": [
       "LinearRegression()"
      ]
     },
     "execution_count": 41,
     "metadata": {},
     "output_type": "execute_result"
    }
   ],
   "source": [
    "features = [\"Team Gap Early\", \"R\", \"Perf relative\", \"Perf intrinsèque\", \"LoseStreak\"]\n",
    "\n",
    "# Séparer R et LoseStreak du reste\n",
    "features_to_scale = [\"Team Gap Early\", \"Perf relative\", \"Perf intrinsèque\"]\n",
    "\n",
    "scaler = StandardScaler()\n",
    "data_scaled = scaler.fit_transform(df[features_to_scale])\n",
    "\n",
    "# Concaténer R et LoseStreak en valeur brute\n",
    "R_raw = df[\"R\"].values.reshape(-1, 1)\n",
    "streak_raw = df[\"LoseStreak\"].values.reshape(-1, 1)\n",
    "\n",
    "data_final = np.hstack([\n",
    "    data_scaled[:, 0:1],  # Team Gap Early\n",
    "    R_raw,                # R brut\n",
    "    data_scaled[:, 1:3],  # Perf relative, Perf intrinsèque\n",
    "    streak_raw             # LoseStreak brut\n",
    "])\n",
    "\n",
    "window = 7\n",
    "X, y = [], []\n",
    "\n",
    "for i in range(len(data_final) - window):\n",
    "    X.append(data_final[i:i+window])\n",
    "    y.append(data_final[i + window, 0])  # prédire Team Gap Early\n",
    "\n",
    "X = np.array(X)\n",
    "y = np.array(y)\n",
    "\n",
    "# --- Dataset PyTorch ---\n",
    "class LoLDataset(Dataset):\n",
    "    def __init__(self, X, y):\n",
    "        self.X = torch.tensor(X, dtype=torch.float32)\n",
    "        self.y = torch.tensor(y, dtype=torch.float32)\n",
    "    def __len__(self):\n",
    "        return len(self.X)\n",
    "    def __getitem__(self, idx):\n",
    "        return self.X[idx], self.y[idx]\n",
    "\n",
    "dataset = LoLDataset(X, y)\n",
    "train_loader = DataLoader(dataset, batch_size=4, shuffle=True)\n",
    "\n",
    "# --- LSTM ---\n",
    "class LoLModel(nn.Module):\n",
    "    def __init__(self, input_size=5, hidden_size=32, num_layers=1):  # input_size = 5 maintenant\n",
    "        super().__init__()\n",
    "        self.lstm = nn.LSTM(input_size, hidden_size, num_layers, batch_first=True)\n",
    "        self.fc = nn.Linear(hidden_size, 1)\n",
    "\n",
    "    def forward(self, x):\n",
    "        out, _ = self.lstm(x)\n",
    "        out = self.fc(out[:, -1, :])  # dernière sortie\n",
    "        return out.squeeze(1)\n",
    "\n",
    "model = LoLModel()\n",
    "criterion = nn.MSELoss()\n",
    "optimizer = torch.optim.Adam(model.parameters(), lr=1e-3)\n",
    "\n",
    "# --- Entraînement ---\n",
    "for epoch in range(200):\n",
    "    model.train()\n",
    "    total_loss = 0\n",
    "    for X_batch, y_batch in train_loader:\n",
    "        optimizer.zero_grad()\n",
    "        y_pred = model(X_batch)\n",
    "        loss = criterion(y_pred, y_batch)\n",
    "        loss.backward()\n",
    "        optimizer.step()\n",
    "        total_loss += loss.item()\n",
    "    if epoch % 50 == 0:\n",
    "        print(f\"Epoch {epoch}, Loss: {total_loss / len(train_loader):.4f}\")\n",
    "\n",
    "# --- Approximation linéaire sur la sortie avant sigmoid ---\n",
    "model.eval()\n",
    "with torch.no_grad():\n",
    "    lstm_out, _ = model.lstm(torch.tensor(X, dtype=torch.float32))\n",
    "    fc_out = model.fc(lstm_out[:, -1, :]).numpy().flatten()  # avant sigmoid\n",
    "\n",
    "X_flat = X.reshape(X.shape[0], -1)\n",
    "lin_model = LinearRegression()\n",
    "lin_model.fit(X_flat, fc_out)"
   ]
  },
  {
   "cell_type": "code",
   "execution_count": 47,
   "id": "2902ca21",
   "metadata": {
    "execution": {
     "iopub.execute_input": "2025-10-16T18:14:47.100059Z",
     "iopub.status.busy": "2025-10-16T18:14:47.099723Z",
     "iopub.status.idle": "2025-10-16T18:14:47.105940Z",
     "shell.execute_reply": "2025-10-16T18:14:47.104916Z"
    },
    "papermill": {
     "duration": 0.009897,
     "end_time": "2025-10-16T18:14:47.106601",
     "exception": false,
     "start_time": "2025-10-16T18:14:47.096704",
     "status": "completed"
    },
    "tags": []
   },
   "outputs": [
    {
     "name": "stdout",
     "output_type": "stream",
     "text": [
      "=20 + 60 * (1 / (1 + EXP(-(0,518818+(0,426903*F24+-0,413407*F25+-0,271521*F26+-0,762807*F27+0,540077*F28+-0,018481*F29+-0,242964*F30)+(-0,187610*G24+0,050341*G25+0,068316*G26+-0,532262*G27+0,281040*G28+0,099863*G29+0,117314*G30)+(0,091600*H24+-0,241438*H25+-0,486221*H26+-0,793569*H27+-0,059740*H28+0,113519*H29+-0,494593*H30)+(-0,102135*I24+-0,091243*I25+-0,408887*I26+-0,322141*I27+0,261962*I28+-0,029584*I29+0,382865*I30)))))\n"
     ]
    }
   ],
   "source": [
    "def generate_excel_formula_lstm_sigmoid_amplify_R(row, coefs, intercept, window=7, alpha_R=5.0):\n",
    "    features_letters = [\"F\", \"G\", \"H\", \"I\"]  # TeamGapEarly, R, PerfRel, PerfIntr\n",
    "    inner = f\"{intercept:.6f}\".replace(\".\", \",\")\n",
    "    \n",
    "    for feat_idx, col_letter in enumerate(features_letters):\n",
    "        inner += \"+(\"\n",
    "        for lag_idx in range(window):\n",
    "            coef_idx = feat_idx * window + lag_idx\n",
    "            coef = coefs[coef_idx]\n",
    "            if col_letter == \"G\":  # Amplifier R\n",
    "                coef *= alpha_R\n",
    "            lag_row = row - (window - lag_idx)\n",
    "            inner += f\"{coef:.6f}*{col_letter}{lag_row}+\"\n",
    "        inner = inner.rstrip(\"+\") + \")\"\n",
    "    \n",
    "    # Sigmoid + rescaling\n",
    "    formula = f\"=20 + 60 * (1 / (1 + EXP(-({inner}))))\"\n",
    "    formula = formula.replace(\".\", \",\")\n",
    "    return formula\n",
    "\n",
    "row_number = 31\n",
    "excel_formula_row31 = generate_excel_formula_lstm_sigmoid_amplify_R(\n",
    "    row=row_number,\n",
    "    coefs=lin_model.coef_,\n",
    "    intercept=lin_model.intercept_,\n",
    "    window=7,\n",
    "    alpha_R=1.0  # facteur d'amplification\n",
    ")\n",
    "\n",
    "print(excel_formula_row31)\n"
   ]
  },
  {
   "cell_type": "markdown",
   "id": "fedb7118",
   "metadata": {
    "papermill": {
     "duration": 0.002143,
     "end_time": "2025-10-16T18:14:47.110951",
     "exception": false,
     "start_time": "2025-10-16T18:14:47.108808",
     "status": "completed"
    },
    "tags": []
   },
   "source": [
    "### Bonus matrice de corrélation"
   ]
  },
  {
   "cell_type": "code",
   "execution_count": 6,
   "id": "29330dbd",
   "metadata": {
    "execution": {
     "iopub.execute_input": "2025-10-16T18:14:47.116417Z",
     "iopub.status.busy": "2025-10-16T18:14:47.116207Z",
     "iopub.status.idle": "2025-10-16T18:14:47.355223Z",
     "shell.execute_reply": "2025-10-16T18:14:47.354321Z"
    },
    "papermill": {
     "duration": 0.242822,
     "end_time": "2025-10-16T18:14:47.355925",
     "exception": false,
     "start_time": "2025-10-16T18:14:47.113103",
     "status": "completed"
    },
    "tags": []
   },
   "outputs": [
    {
     "data": {
      "image/png": "[encoded data removed]",
      "text/plain": [
       "<Figure size 1200x600 with 2 Axes>"
      ]
     },
     "metadata": {},
     "output_type": "display_data"
    }
   ],
   "source": [
    "import pandas as pd\n",
    "import seaborn as sns\n",
    "import matplotlib.pyplot as plt\n",
    "\n",
    "features = ['R', 'Perf relative', 'Perf intrinsèque', 'Team Gap Early']\n",
    "target = 'Team Gap Early'\n",
    "max_lag = 7\n",
    "\n",
    "df_lagged = df.copy()\n",
    "\n",
    "# Créer les colonnes lag\n",
    "for feat in features:\n",
    "    for lag in range(1, max_lag + 1):\n",
    "        df_lagged[f'{feat}_lag{lag}'] = df_lagged[feat].shift(lag)\n",
    "\n",
    "# Supprimer les lignes avec target NaN\n",
    "df_corr = df_lagged.dropna(subset=[target])\n",
    "\n",
    "# Calcul des corrélations\n",
    "corr_dict = {}\n",
    "for feat in features:\n",
    "    for lag in range(1, max_lag + 1):\n",
    "        corr_dict[f'{feat}_lag{lag}'] = df_corr[target].corr(df_corr[f'{feat}_lag{lag}'])\n",
    "\n",
    "corr_df = pd.DataFrame.from_dict(corr_dict, orient='index', columns=['Correlation'])\n",
    "corr_df['Feature'] = [name.split('_lag')[0] for name in corr_df.index]\n",
    "corr_df['Lag'] = [int(name.split('_lag')[1]) for name in corr_df.index]\n",
    "\n",
    "# Pivot pour heatmap\n",
    "heatmap_data = corr_df.pivot(index='Feature', columns='Lag', values='Correlation')\n",
    "\n",
    "# Heatmap avec labels\n",
    "plt.figure(figsize=(12, 6))\n",
    "ax = sns.heatmap(\n",
    "    heatmap_data,\n",
    "    annot=True,\n",
    "    fmt=\".2f\",\n",
    "    cmap=\"coolwarm\",\n",
    "    cbar_kws={'label': 'Corrélation'},\n",
    "    linewidths=0.5,\n",
    "    square=True\n",
    ")\n",
    "\n",
    "# Forcer les labels pour toutes les cases\n",
    "ax.set_xticklabels([f\"game n-{i}\" for i in heatmap_data.columns], rotation=45, ha='right', fontsize=10)\n",
    "ax.set_yticklabels(heatmap_data.index, rotation=0, fontsize=10)\n",
    "\n",
    "plt.title('Corrélation des features sur les 7 dernières games avec Team Gap Early', fontsize=16)\n",
    "plt.xlabel('Ancienneté')\n",
    "plt.ylabel('Features')\n",
    "plt.tight_layout()\n",
    "plt.show()\n"
   ]
  }
 ],
 "metadata": {
  "kernelspec": {
   "display_name": "Python 3 (ipykernel)",
   "language": "python",
   "name": "python3"
  },
  "language_info": {
   "codemirror_mode": {
    "name": "ipython",
    "version": 3
   },
   "file_extension": ".py",
   "mimetype": "text/x-python",
   "name": "python",
   "nbconvert_exporter": "python",
   "pygments_lexer": "ipython3",
   "version": "3.11.7"
  },
  "papermill": {
   "default_parameters": {},
   "duration": 9.885779,
   "end_time": "2025-10-16T18:14:48.276164",
   "environment_variables": {},
   "exception": null,
   "input_path": "Poids.ipynb",
   "output_path": "Poids.ipynb",
   "parameters": {},
   "start_time": "2025-10-16T18:14:38.390385",
   "version": "2.6.0"
  }
 },
 "nbformat": 4,
 "nbformat_minor": 5
}
